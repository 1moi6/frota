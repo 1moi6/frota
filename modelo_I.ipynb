{
 "cells": [
  {
   "cell_type": "code",
   "execution_count": 6,
   "metadata": {},
   "outputs": [],
   "source": [
    "aux = []\n",
    "for i in range(3):\n",
    "    aux.append(i)"
   ]
  },
  {
   "cell_type": "code",
   "execution_count": 9,
   "metadata": {},
   "outputs": [],
   "source": [
    "estados = list(product(*[aux for i in range(2)]))"
   ]
  },
  {
   "cell_type": "code",
   "execution_count": 16,
   "metadata": {},
   "outputs": [
    {
     "data": {
      "text/plain": [
       "1048576"
      ]
     },
     "execution_count": 16,
     "metadata": {},
     "output_type": "execute_result"
    }
   ],
   "source": [
    "(2**10)**2"
   ]
  },
  {
   "cell_type": "code",
   "execution_count": 10,
   "metadata": {},
   "outputs": [
    {
     "data": {
      "text/plain": [
       "[(0, 0), (0, 1), (0, 2), (1, 0), (1, 1), (1, 2), (2, 0), (2, 1), (2, 2)]"
      ]
     },
     "execution_count": 10,
     "metadata": {},
     "output_type": "execute_result"
    }
   ],
   "source": [
    "estados"
   ]
  },
  {
   "cell_type": "code",
   "execution_count": 54,
   "metadata": {},
   "outputs": [],
   "source": [
    "import numpy as np\n",
    "import random\n",
    "from itertools import product\n",
    "import pandas as pd\n",
    "\n",
    "\n",
    "class Frota:\n",
    "    def __init__(self, Periodo, TamanhoFrota, Demanda):\n",
    "        if len(Demanda) < Periodo:\n",
    "            Demanda = Demanda + \\\n",
    "                [random.randint(0, TamanhoFrota)\n",
    "                 for i in range(Periodo-len(Demanda))]\n",
    "        self.ProbQuebra_0 = 0.01\n",
    "        self.Depreciacao = 0.4\n",
    "        self.ProbPar = 0.4\n",
    "        # self.Parametros = {}\n",
    "        self.Periodo = Periodo\n",
    "        self.TamanhoFrota = TamanhoFrota\n",
    "        self.Demanda = Demanda\n",
    "        self.ProbQuebraFcn = lambda x: self.ProbQuebra_0 / \\\n",
    "            (self.ProbQuebra_0+(1-self.ProbQuebra_0)*np.exp(-self.ProbPar*x))\n",
    "        self.Politica = {}\n",
    "       \n",
    "    def AcoesDisponiveis(self,estado):\n",
    "        acoes = list(product(*[[0, 1] for i in range(self.TamanhoFrota)]))\n",
    "        aux = []\n",
    "        for ac in acoes:\n",
    "            cnt = sum(ac)\n",
    "            print(cnt)\n",
    "            if estado[1]>=self.Periodo:\n",
    "                return {estado:[tuple([-1]*self.TamanhoFrota)]} \n",
    "            if cnt >= self.Demanda[estado[1]]:\n",
    "                aux.append(ac)\n",
    "            \n",
    "            \n",
    "        return {estado:aux}\n",
    "\n",
    "    def Recompensa(self, est):\n",
    "        tvida = 0\n",
    "\n",
    "        # define o valor do equipamento como função da idade do equipamento\n",
    "        valor_equipamento = np.exp(-0.005*tvida)\n",
    "\n",
    "        # define o valor da manutenção\n",
    "        valor_manutencao = 0.02 - 0.01*np.exp(-0.1*tvida)\n",
    "\n",
    "        # define o valor da manutenção se der defeito\n",
    "        valor_defeito = 5*valor_manutencao/valor_equipamento\n",
    "\n",
    "        # Cálculo das recompensas SEM defeito e COM defeito\n",
    "        res_a0_op, res_a0_de = 0, valor_defeito\n",
    "\n",
    "        # Cálculo das recompensas na manutenção\n",
    "        res_a1 = valor_manutencao/valor_equipamento\n",
    "\n",
    "        \n",
    "        res = [res_a0_op, res_a0_de, res_a1]\n",
    "        if est[0] == -1:\n",
    "            res = [0, 0, 0]\n",
    "        return res\n",
    "\n",
    "    def ProximoEstado(self, estado, acao):\n",
    "        NovosEstados = {}\n",
    "        NovoEstado = [[]]*self.TamanhoFrota\n",
    "        est,tmp = estado[0],estado[1]\n",
    "        for i, a in enumerate(acao):\n",
    "            rcp = self.Recompensa(est[i])\n",
    "            prob_quebrar = self.ProbQuebraFcn(estado[i])\n",
    "            if a == 0:\n",
    "                NovoEstado[i] = [(est[i]+1,rcp[0],1-prob_quebrar),(0,rcp[1],prob_quebrar)]\n",
    "            if a == 1:\n",
    "                NovoEstado[i] = [(0,rcp[2],1)]\n",
    "            if a == -1:\n",
    "                NovoEstado[i] = [(-1,0,1)]\n",
    "                \n",
    "        # print(NovoEstado)\n",
    "\n",
    "        estaux = list(product(*NovoEstado))\n",
    "        # recs = list(product(*Recompensa))\n",
    "        # probs = [np.prod(pr) for pr in probs]\n",
    "        # recs = [np.sum(rc) for rc in recs]\n",
    "        # if self.Periodo > estado[-1]:\n",
    "        #     tmp = estado[-1]+1\n",
    "        # else:\n",
    "        #     tmp = self.Periodo\n",
    "\n",
    "        # NovosEstados[\"estados\"] = [(*x, tmp)\n",
    "        #                            for x in list(product(*NovoEstado))]\n",
    "        # NovosEstados[\"recompensas\"] = recs\n",
    "        # NovosEstados[\"probabilidades\"] = probs\n",
    "\n",
    "        return estaux\n",
    "\n",
    "    # def ValueIteration(self, tol=1e-5, sims=500):\n",
    "\n",
    "    #     lista_estados = list(self.EstadosAcoes.keys())\n",
    "    #     # est0 = lista_estados[0]\n",
    "    #     if len(self.Politica) == 0:\n",
    "    #         for est in lista_estados:\n",
    "    #             aux = [0]*len(self.EstadosAcoes[est])\n",
    "    #             # aux[random.choice(range(len(aux)))] = 1\n",
    "    #             aux[0] = 1\n",
    "    #             self.Politica[est] = {ac: x for ac,x in zip(self.EstadosAcoes[est], aux)}\n",
    "\n",
    "    #     VN = {v: 0.05 for v in lista_estados}\n",
    "    #     VN[(*tuple([(-1, -1)]*self.TamanhoFrota), self.Periodo)] = 0\n",
    "\n",
    "    #     PLN = {k: np.argmax(v) for k, v in self.Politica.items()}\n",
    "\n",
    "    #     M, P = {}, {}\n",
    "    #     M[0] = np.array(list(VN.values()))\n",
    "    #     P[0] = {k: v for k, v in PLN.items()}\n",
    "\n",
    "    #     cnt, nor = 0, 10\n",
    "    #     val_norm = []\n",
    "    #     while nor > tol and cnt <= sims:\n",
    "\n",
    "    #         # PL = {k:v for k,v in PLN.items()}\n",
    "    #         PLN = {}\n",
    "\n",
    "    #         V = {k: v for k, v in VN.items()}\n",
    "    #         VN = {}\n",
    "\n",
    "    #         for est in lista_estados:\n",
    "    #             v_aux = []\n",
    "    #             for idx, ac in enumerate(self.EstadosAcoes[est]):\n",
    "    #                 next = self.ProximoEstado(est, ac)\n",
    "    #                 nest = next[\"estados\"]\n",
    "    #                 probs = next[\"probabilidades\"]\n",
    "    #                 recs = next[\"recompensas\"]\n",
    "    #                 v_aux2 = 0\n",
    "    #                 for j_e in range(len(nest)):\n",
    "    #                     v_aux2 = v_aux2 + probs[j_e]*(recs[j_e]+V[nest[j_e]])\n",
    "    #                 v_aux.append(v_aux2)\n",
    "\n",
    "    #             VN[est] = np.max(v_aux)\n",
    "    #             PLN[est] = np.argmax(v_aux)\n",
    "\n",
    "    #         cnt = cnt+1\n",
    "    #         nor = np.linalg.norm(\n",
    "    #             np.array(list(V.values()))-np.array(list(VN.values())))\n",
    "    #         val_norm.append(nor)\n",
    "    #         print(\n",
    "    #             f\"sim: {cnt:2d}, norma: {nor:5.2f}, condicao: {nor>tol}\", end='\\r')\n",
    "    #         M[cnt % 2] = np.array(list(VN.values()))\n",
    "    #         P[cnt % 2] = {k: v for k, v in PLN.items()}\n",
    "\n",
    "    #     # PoliticaOtima = {est:self.EstadosAcoes[est][idx] for est,idx in P[1].items()}\n",
    "    #     self.Politica = {\n",
    "    #         est: self.EstadosAcoes[est][idx] for est, idx in P[1].items()}\n",
    "\n",
    "    #     return {\"politica\": self.Politica, \"valor\": M[1], \"norma\": val_norm}"
   ]
  },
  {
   "cell_type": "code",
   "execution_count": 59,
   "metadata": {},
   "outputs": [],
   "source": [
    "ft = Frota(3,2,[0,2,0])"
   ]
  },
  {
   "cell_type": "code",
   "execution_count": 61,
   "metadata": {},
   "outputs": [
    {
     "name": "stdout",
     "output_type": "stream",
     "text": [
      "0\n",
      "1\n",
      "1\n",
      "2\n"
     ]
    },
    {
     "data": {
      "text/plain": [
       "{((0, 0), 1): [(-1, -1), (-1, -1), (-1, -1), (1, 1)]}"
      ]
     },
     "execution_count": 61,
     "metadata": {},
     "output_type": "execute_result"
    }
   ],
   "source": [
    "ft.AcoesDisponiveis(((0,0),1))"
   ]
  }
 ],
 "metadata": {
  "kernelspec": {
   "display_name": "basico",
   "language": "python",
   "name": "python3"
  },
  "language_info": {
   "codemirror_mode": {
    "name": "ipython",
    "version": 3
   },
   "file_extension": ".py",
   "mimetype": "text/x-python",
   "name": "python",
   "nbconvert_exporter": "python",
   "pygments_lexer": "ipython3",
   "version": "3.10.8"
  }
 },
 "nbformat": 4,
 "nbformat_minor": 2
}
